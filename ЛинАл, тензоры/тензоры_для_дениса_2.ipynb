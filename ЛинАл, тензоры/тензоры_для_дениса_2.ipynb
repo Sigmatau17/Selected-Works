{
  "cells": [
    {
      "cell_type": "code",
      "execution_count": 3,
      "metadata": {
        "colab": {
          "base_uri": "https://localhost:8080/"
        },
        "id": "mNIY0_qYJQMH",
        "outputId": "0b3a76ad-720b-4cdc-ddf8-dce1f920b0ad"
      },
      "outputs": [
        {
          "name": "stdout",
          "output_type": "stream",
          "text": [
            "[[[[[-3. -6.]\n",
            "    [-2. -5.]]\n",
            "\n",
            "   [[-6. -9.]\n",
            "    [-5. -8.]]]\n",
            "\n",
            "\n",
            "  [[[-3. -6.]\n",
            "    [-2. -5.]]\n",
            "\n",
            "   [[-6. -9.]\n",
            "    [-5. -8.]]]]\n",
            "\n",
            "\n",
            "\n",
            " [[[[-1. -4.]\n",
            "    [ 0. -3.]]\n",
            "\n",
            "   [[-4. -7.]\n",
            "    [-3. -6.]]]\n",
            "\n",
            "\n",
            "  [[[-1. -4.]\n",
            "    [ 0. -3.]]\n",
            "\n",
            "   [[-4. -7.]\n",
            "    [-3. -6.]]]]]\n"
          ]
        }
      ],
      "source": [
        "import numpy as np\n",
        "#ex 7\n",
        "shape = (2, 2, 2, 2, 2)\n",
        "a = np.zeros(shape)\n",
        "for i in range(2):\n",
        "  for j in range(2):\n",
        "    for p in range(2):\n",
        "      for t in range(2):\n",
        "        for l in range(2):\n",
        "          a[l][p][t][i][j] = 1 * (i+1)-3 * (j+1)-3 * (t+1) + 2 * (l+1)\n",
        "print(a)"
      ]
    },
    {
      "cell_type": "code",
      "execution_count": 21,
      "metadata": {},
      "outputs": [
        {
          "name": "stdout",
          "output_type": "stream",
          "text": [
            "[[[[[-3. -5.]\n",
            "    [ 0. -2.]]\n",
            "\n",
            "   [[-4. -6.]\n",
            "    [-1. -3.]]]\n",
            "\n",
            "\n",
            "  [[[-5. -7.]\n",
            "    [-2. -4.]]\n",
            "\n",
            "   [[-6. -8.]\n",
            "    [-3. -5.]]]]\n",
            "\n",
            "\n",
            "\n",
            " [[[[-4. -6.]\n",
            "    [-1. -3.]]\n",
            "\n",
            "   [[-5. -7.]\n",
            "    [-2. -4.]]]\n",
            "\n",
            "\n",
            "  [[[-6. -8.]\n",
            "    [-3. -5.]]\n",
            "\n",
            "   [[-7. -9.]\n",
            "    [-4. -6.]]]]]\n"
          ]
        }
      ],
      "source": [
        "#ex 8\n",
        "shape = (2, 2, 2, 2, 2)\n",
        "a = np.zeros(shape)\n",
        "for m in range(2):\n",
        "  for j in range(2):\n",
        "    for p in range(2):\n",
        "      for t in range(2):\n",
        "        for k in range(2):\n",
        "          a[k][p][t][m][j] = 3 * (m+1) - 2 * (j+1) - 2 * (p+1) - (t+1) - (k+1)\n",
        "print(a)"
      ]
    },
    {
      "cell_type": "code",
      "execution_count": 11,
      "metadata": {
        "colab": {
          "base_uri": "https://localhost:8080/"
        },
        "id": "B0oTuVtsLsgn",
        "outputId": "554a0209-a36c-4020-c615-ab79de5efc1a"
      },
      "outputs": [
        {
          "name": "stdout",
          "output_type": "stream",
          "text": [
            "[[[ 0.  0.  0.]\n",
            "  [ 0.  0.  9.]\n",
            "  [ 0. -9.  0.]]\n",
            "\n",
            " [[ 0.  0. -9.]\n",
            "  [ 0.  0.  0.]\n",
            "  [ 9.  0.  0.]]\n",
            "\n",
            " [[ 0.  9.  0.]\n",
            "  [-9.  0.  0.]\n",
            "  [ 0.  0.  0.]]]\n"
          ]
        }
      ],
      "source": [
        "#ex 17\n",
        "a = np.array([[6, -3, -2], [4, 4, 1], [-3, 3, -2]])\n",
        "b = np.array([-5, -1, -1])\n",
        "ab = np.tensordot(a, b, axes=0)\n",
        "shape = (3, 3, 3)\n",
        "c = np.zeros(shape)\n",
        "for k in range(3):\n",
        "  for p in range(3):\n",
        "    for r in range(3):\n",
        "      c[r][k][p] = 0.5 * (ab[r][k][p] + ab[k][p][r] + ab[p][r][k] - ab[p][k][r] - ab[r][p][k] - ab[k][r][p])\n",
        "print(c)"
      ]
    },
    {
      "cell_type": "code",
      "execution_count": 12,
      "metadata": {},
      "outputs": [
        {
          "name": "stdout",
          "output_type": "stream",
          "text": [
            "[[[  0.   0.   0.]\n",
            "  [  0.   0. -15.]\n",
            "  [  0.  15.   0.]]\n",
            "\n",
            " [[  0.   0.  15.]\n",
            "  [  0.   0.   0.]\n",
            "  [-15.   0.   0.]]\n",
            "\n",
            " [[  0. -15.   0.]\n",
            "  [ 15.   0.   0.]\n",
            "  [  0.   0.   0.]]]\n"
          ]
        }
      ],
      "source": [
        "#ex 18\n",
        "b = np.array([[-5, 4, -4], [3, 1, -6], [-1, 2, 0]])\n",
        "a = np.array([3, -4, 6])\n",
        "ab = np.tensordot(a, b, axes=0)\n",
        "shape = (3, 3, 3)\n",
        "c = np.zeros(shape)\n",
        "for k in range(3):\n",
        "  for p in range(3):\n",
        "    for r in range(3):\n",
        "      c[r][k][p] = 0.5 * (ab[r][k][p] + ab[k][p][r] + ab[p][r][k] - ab[p][k][r] - ab[r][p][k] - ab[k][r][p])\n",
        "print(c)"
      ]
    },
    {
      "cell_type": "code",
      "execution_count": 13,
      "metadata": {},
      "outputs": [
        {
          "name": "stdout",
          "output_type": "stream",
          "text": [
            "[[[ 0.   0.   0. ]\n",
            "  [ 0.   0.  -0.5]\n",
            "  [ 0.   0.5  0. ]]\n",
            "\n",
            " [[ 0.   0.   0.5]\n",
            "  [ 0.   0.   0. ]\n",
            "  [-0.5  0.   0. ]]\n",
            "\n",
            " [[ 0.  -0.5  0. ]\n",
            "  [ 0.5  0.   0. ]\n",
            "  [ 0.   0.   0. ]]]\n"
          ]
        }
      ],
      "source": [
        "#ex 19\n",
        "a = np.array([[3, 2, 0], [-2, -6, -3], [-4, 2, 2]])\n",
        "b = np.array([1, -2, -1])\n",
        "ab = np.tensordot(a, b, axes=0)\n",
        "shape = (3, 3, 3)\n",
        "c = np.zeros(shape)\n",
        "for k in range(3):\n",
        "  for p in range(3):\n",
        "    for r in range(3):\n",
        "      c[r][k][p] = 0.5 * (ab[r][k][p] + ab[k][p][r] + ab[p][r][k] - ab[p][k][r] - ab[r][p][k] - ab[k][r][p])\n",
        "print(c)"
      ]
    },
    {
      "cell_type": "code",
      "execution_count": 17,
      "metadata": {},
      "outputs": [
        {
          "name": "stdout",
          "output_type": "stream",
          "text": [
            "[[[  0.    0.    0. ]\n",
            "  [  0.    0.  -17.5]\n",
            "  [  0.   17.5   0. ]]\n",
            "\n",
            " [[  0.    0.   17.5]\n",
            "  [  0.    0.    0. ]\n",
            "  [-17.5   0.    0. ]]\n",
            "\n",
            " [[  0.  -17.5   0. ]\n",
            "  [ 17.5   0.    0. ]\n",
            "  [  0.    0.    0. ]]]\n"
          ]
        }
      ],
      "source": [
        "#ex 20\n",
        "b = np.array([[2, 2, -4], [5, 2, 5], [1, 0, -1]])\n",
        "a = np.array([-5, 1, 5])\n",
        "ab = np.tensordot(a, b, axes=0)\n",
        "shape = (3, 3, 3)\n",
        "c = np.zeros(shape)\n",
        "for k in range(3):\n",
        "  for p in range(3):\n",
        "    for r in range(3):\n",
        "      c[r][k][p] = 0.5 * (ab[r][k][p] + ab[k][p][r] + ab[p][r][k] - ab[p][k][r] - ab[r][p][k] - ab[k][r][p])\n",
        "print(c)"
      ]
    },
    {
      "cell_type": "code",
      "execution_count": 6,
      "metadata": {
        "colab": {
          "base_uri": "https://localhost:8080/"
        },
        "id": "iz7TMA2pXv47",
        "outputId": "f43893ee-8f4b-4986-d4b6-55c95f758292"
      },
      "outputs": [
        {
          "name": "stdout",
          "output_type": "stream",
          "text": [
            "[[[ 0.   0.   0. ]\n",
            "  [-1.  -2.5 -5.5]\n",
            "  [ 0.5 -2.   2. ]]\n",
            "\n",
            " [[ 1.   2.5  5.5]\n",
            "  [ 0.   0.   0. ]\n",
            "  [ 0.5  2.  -4.5]]\n",
            "\n",
            " [[-0.5  2.  -2. ]\n",
            "  [-0.5 -2.   4.5]\n",
            "  [ 0.   0.   0. ]]]\n"
          ]
        }
      ],
      "source": [
        "#ex 13\n",
        "a = np.array([[[-1, -5, -4], [-6, -2, -6], [1, -1, 3]],\n",
        "              [[-4, 3, 5], [4, 0, 0], [-2, 4, -5]],\n",
        "              [[0, 3, -1], [-3, 0, 4], [-4, 5, 2]]])\n",
        "shape = (3, 3, 3)\n",
        "b = np.zeros(shape)\n",
        "for q in range(3):\n",
        "  for l in range(3):\n",
        "    for j in range(3):\n",
        "      b[j][q][l] = 0.5 * (a[j][q][l] - a[q][j][l])\n",
        "print(b)"
      ]
    },
    {
      "cell_type": "code",
      "execution_count": 7,
      "metadata": {
        "colab": {
          "base_uri": "https://localhost:8080/"
        },
        "id": "KMbST7T1aFo7",
        "outputId": "4ba40bbb-d247-447f-8eb2-e6daf958217b"
      },
      "outputs": [
        {
          "name": "stdout",
          "output_type": "stream",
          "text": [
            "[[[ 0.   0.   0. ]\n",
            "  [-0.5 -1.   0. ]\n",
            "  [-1.5 -4.   5.5]]\n",
            "\n",
            " [[ 0.5  1.   0. ]\n",
            "  [ 0.   0.   0. ]\n",
            "  [-2.  -4.   2. ]]\n",
            "\n",
            " [[ 1.5  4.  -5.5]\n",
            "  [ 2.   4.  -2. ]\n",
            "  [ 0.   0.   0. ]]]\n"
          ]
        }
      ],
      "source": [
        "#ex 14\n",
        "a = np.array([[[3, -3, 3], [-1, -3, 0], [0, -4, 5]],\n",
        "              [[0, -1, 0], [-3, -1, -2], [-1, -5, 1]],\n",
        "              [[3, 4, -6], [3, 3, -3], [-4, 2, -5]]])\n",
        "shape = (3, 3, 3)\n",
        "b = np.zeros(shape)\n",
        "for j in range(3):\n",
        "  for i in range(3):\n",
        "    for q in range(3):\n",
        "      b[q][j][i] = 0.5 * (a[q][j][i] - a[j][q][i])\n",
        "print(b)"
      ]
    },
    {
      "cell_type": "code",
      "execution_count": 8,
      "metadata": {},
      "outputs": [
        {
          "name": "stdout",
          "output_type": "stream",
          "text": [
            "[[[ 0.  -3.   0. ]\n",
            "  [ 0.  -1.   0.5]\n",
            "  [ 0.   0.5  0.5]]\n",
            "\n",
            " [[ 3.   0.   2. ]\n",
            "  [ 1.   0.   4. ]\n",
            "  [-0.5  0.   1. ]]\n",
            "\n",
            " [[ 0.  -2.   0. ]\n",
            "  [-0.5 -4.   0. ]\n",
            "  [-0.5 -1.   0. ]]]\n"
          ]
        }
      ],
      "source": [
        "#ex 15\n",
        "a = np.array([[[1, -6, 0], [-3, -3, -5], [1, -3, -4]],\n",
        "              [[0, -5, 2], [-1, -4, 2], [-4, -3, 5]],\n",
        "              [[0, -2, 4], [-6, -6, -4], [-5, 3, 3]]])\n",
        "shape = (3, 3, 3)\n",
        "b = np.zeros(shape)\n",
        "for m in range(3):\n",
        "  for k in range(3):\n",
        "    for q in range(3):\n",
        "      b[k][m][q] = 0.5 * (a[k][m][q] - a[q][m][k])\n",
        "print(b)"
      ]
    },
    {
      "cell_type": "code",
      "execution_count": 9,
      "metadata": {},
      "outputs": [
        {
          "name": "stdout",
          "output_type": "stream",
          "text": [
            "[[[ 0.   1.5  0.5]\n",
            "  [-1.5  0.   1.5]\n",
            "  [-0.5 -1.5  0. ]]\n",
            "\n",
            " [[ 0.   1.5  5. ]\n",
            "  [-1.5  0.  -1.5]\n",
            "  [-5.   1.5  0. ]]\n",
            "\n",
            " [[ 0.  -1.   1. ]\n",
            "  [ 1.   0.  -3.5]\n",
            "  [-1.   3.5  0. ]]]\n"
          ]
        }
      ],
      "source": [
        "#ex 16\n",
        "a = np.array([[[-5, 3, 1], [0, 5, -2], [0, -5, 4]],\n",
        "              [[-1, 5, 6], [2, 2, -3], [-4, 0, 5]],\n",
        "              [[0, 0, -1], [2, -1, -4], [-3, 3, 1]]])\n",
        "shape = (3, 3, 3)\n",
        "b = np.zeros(shape)\n",
        "for j in range(3):\n",
        "  for l in range(3):\n",
        "    for q in range(3):\n",
        "      b[l][j][q] = 0.5 * (a[l][j][q] - a[l][q][j])\n",
        "print(b)"
      ]
    },
    {
      "cell_type": "code",
      "execution_count": 22,
      "metadata": {},
      "outputs": [
        {
          "name": "stdout",
          "output_type": "stream",
          "text": [
            "[[[[-6.  0. -1.]\n",
            "   [-6.  5.  4.]\n",
            "   [-2.  5. -1.]]\n",
            "\n",
            "  [[-6. -5.  0.]\n",
            "   [ 6.  4.  4.]\n",
            "   [-4.  4.  3.]]\n",
            "\n",
            "  [[-1.  4.  4.]\n",
            "   [ 5.  0. -1.]\n",
            "   [-4. -3.  1.]]]\n",
            "\n",
            "\n",
            " [[[-5.  4.  4.]\n",
            "   [-5. -2. -3.]\n",
            "   [ 5. -2.  1.]]\n",
            "\n",
            "  [[-3.  3. -2.]\n",
            "   [ 0.  3. -3.]\n",
            "   [ 3. -2.  2.]]\n",
            "\n",
            "  [[ 5.  1.  1.]\n",
            "   [ 3. -3.  6.]\n",
            "   [-1.  3. -1.]]]\n",
            "\n",
            "\n",
            " [[[ 4. -5. -1.]\n",
            "   [-3.  1.  4.]\n",
            "   [ 2.  5.  3.]]\n",
            "\n",
            "  [[-5.  5.  1.]\n",
            "   [ 0.  2.  5.]\n",
            "   [-2. -6. -4.]]\n",
            "\n",
            "  [[ 4.  4. -6.]\n",
            "   [ 4.  3. -6.]\n",
            "   [-1. -2.  4.]]]]\n"
          ]
        }
      ],
      "source": [
        "#ex 9\n",
        "a = np.array([[[[-6, -5, 4], [-6, -5, -3], [-2, 5, 2]], \n",
        "              [[0, 4, -5], [5, -2, 1], [5, -2, 5]], \n",
        "              [[-1, 4, -1], [4, -3, 4], [-1, 1, 3]]],\n",
        "              [[[-6, -3, -5], [6, 0, 0], [-4, 3, -2]], \n",
        "              [[-5, 3, 5], [4, 3, 2], [4, -2, -6]], \n",
        "              [[0, -2, 1], [4, -3, 5], [3, 2, -4]]], \n",
        "              [[[-1, 5, 4], [5, 3, 4], [-4, -1, -1]], \n",
        "              [[4, 1, 4], [0, -3, 3], [-3, 3, -2]], \n",
        "              [[4, 1, -6], [-1, 6, -6], [1, -1, 4]]]])\n",
        "shape = (3, 3, 3, 3)\n",
        "b = np.zeros(shape)\n",
        "for j in range(3):\n",
        "    for i in range(3):\n",
        "      for m in range(3):\n",
        "        for k in range(3):\n",
        "            b[j][i][k][m] = a[i][m][k][j]\n",
        "print(b)"
      ]
    },
    {
      "cell_type": "code",
      "execution_count": 23,
      "metadata": {},
      "outputs": [
        {
          "name": "stdout",
          "output_type": "stream",
          "text": [
            "[[[[ 5.  4.  4.]\n",
            "   [ 5. -2. -6.]\n",
            "   [-4. -2. -5.]]\n",
            "\n",
            "  [[-1.  0. -2.]\n",
            "   [ 2.  3. -5.]\n",
            "   [-6. -3. -2.]]\n",
            "\n",
            "  [[ 2. -1.  1.]\n",
            "   [ 4.  3.  4.]\n",
            "   [-1. -6.  5.]]]\n",
            "\n",
            "\n",
            " [[[ 5. -3. -1.]\n",
            "   [-1.  6. -3.]\n",
            "   [ 3. -1. -5.]]\n",
            "\n",
            "  [[-6.  3. -3.]\n",
            "   [-1. -2. -4.]\n",
            "   [ 1. -2.  5.]]\n",
            "\n",
            "  [[-6.  2.  4.]\n",
            "   [-2. -6. -2.]\n",
            "   [-1.  0.  4.]]]\n",
            "\n",
            "\n",
            " [[[ 2.  5.  3.]\n",
            "   [-4.  4. -4.]\n",
            "   [-6.  1. -4.]]\n",
            "\n",
            "  [[ 3.  2.  3.]\n",
            "   [ 2.  3. -3.]\n",
            "   [-1.  5.  5.]]\n",
            "\n",
            "  [[ 4.  5.  5.]\n",
            "   [ 1. -5.  5.]\n",
            "   [-5. -3.  3.]]]]\n"
          ]
        }
      ],
      "source": [
        "#ex 10\n",
        "a = np.array([[[[5, 5, -4], [5, -1, 3], [2, -4, -6]], \n",
        "              [[-1, 2, -6], [-6, -1, 1], [3, 2, -1]], \n",
        "              [[2, 4, -1], [-6, -2, -1], [4, 1, -5]]],\n",
        "              [[[4, -2, -2], [-3, 6, -1], [5, 4, 1]], \n",
        "              [[0, 3, -3], [3, -2, -2], [2, 3, 5]], \n",
        "              [[-1, 3, -6], [2, -6, 0], [5, -5, -3]]], \n",
        "              [[[4, -6, -5], [-1, -3, -5], [3, -4, -4]], \n",
        "              [[-2, -5, -2], [-3, -4, 5], [3, -3, 5]], \n",
        "              [[1, 4, 5], [4, -2, 4], [5, 5, 3]]]])\n",
        "shape = (3, 3, 3, 3)\n",
        "b = np.zeros(shape)\n",
        "for j in range(3):\n",
        "    for i in range(3):\n",
        "      for m in range(3):\n",
        "        for k in range(3):\n",
        "            b[j][i][m][k] = a[k][i][j][m]\n",
        "print(b)"
      ]
    },
    {
      "cell_type": "code",
      "execution_count": 24,
      "metadata": {},
      "outputs": [
        {
          "name": "stdout",
          "output_type": "stream",
          "text": [
            "[[[[ 5. -6. -1.]\n",
            "   [-4.  2. -5.]\n",
            "   [ 0.  3.  0.]]\n",
            "\n",
            "  [[ 1.  4.  2.]\n",
            "   [ 2. -1. -4.]\n",
            "   [ 2.  4. -2.]]\n",
            "\n",
            "  [[ 2.  0. -1.]\n",
            "   [ 6. -6.  3.]\n",
            "   [ 5.  2.  1.]]]\n",
            "\n",
            "\n",
            " [[[ 3.  0. -2.]\n",
            "   [ 3. -2. -6.]\n",
            "   [ 1. -6. -2.]]\n",
            "\n",
            "  [[-5.  4.  3.]\n",
            "   [ 2. -2.  0.]\n",
            "   [ 3. -6.  2.]]\n",
            "\n",
            "  [[ 4.  4. -1.]\n",
            "   [ 4. -1.  2.]\n",
            "   [-1. -5. -5.]]]\n",
            "\n",
            "\n",
            " [[[ 0.  0. -1.]\n",
            "   [ 2. -3.  5.]\n",
            "   [ 5. -3. -1.]]\n",
            "\n",
            "  [[-6.  1.  1.]\n",
            "   [-4.  1.  0.]\n",
            "   [ 3.  3. -4.]]\n",
            "\n",
            "  [[ 1. -4. -5.]\n",
            "   [-3.  2. -1.]\n",
            "   [ 3.  2.  3.]]]]\n"
          ]
        }
      ],
      "source": [
        "#ex 11\n",
        "a = np.array([[[[5, -6, -1], [1, 4, 2], [2, 0, -1]], \n",
        "              [[3, 0, -2], [-5, 4, 3], [4, 4, -1]], \n",
        "              [[0, 0, -1], [-6, 1, 1], [1, -4, -5]]],\n",
        "              [[[-4, 2, -5], [2, -1, -4], [6, -6, 3]], \n",
        "              [[3, -2, -6], [2, -2, 0], [4, -1, 2]], \n",
        "              [[2, -3, 5], [-4, 1, 0], [-3, 2, -1]]], \n",
        "              [[[0, 3, 0], [2, 4, -2], [5, 2, 1]], \n",
        "              [[1, -6, -2], [3, -6, 2], [-1, -5, -5]], \n",
        "              [[5, -3, -1], [3, 3, -4], [3, 2, 3]]]])\n",
        "shape = (3, 3, 3, 3)\n",
        "b = np.zeros(shape)\n",
        "for l in range(3):\n",
        "    for i in range(3):\n",
        "      for m in range(3):\n",
        "        for k in range(3):\n",
        "            b[m][l][k][i] = a[k][m][l][i]\n",
        "print(b)"
      ]
    },
    {
      "cell_type": "code",
      "execution_count": 25,
      "metadata": {},
      "outputs": [
        {
          "name": "stdout",
          "output_type": "stream",
          "text": [
            "[[[[ 1. -1.  2.]\n",
            "   [-2. -3.  3.]\n",
            "   [-5.  3.  1.]]\n",
            "\n",
            "  [[ 0. -2.  2.]\n",
            "   [ 6.  6. -2.]\n",
            "   [ 0.  0. -3.]]\n",
            "\n",
            "  [[ 1.  3.  3.]\n",
            "   [-2. -1. -3.]\n",
            "   [-6. -4.  1.]]]\n",
            "\n",
            "\n",
            " [[[ 3. -2. -2.]\n",
            "   [ 2. -3.  2.]\n",
            "   [-6. -3.  2.]]\n",
            "\n",
            "  [[ 1. -5. -2.]\n",
            "   [ 6. -6. -4.]\n",
            "   [ 5.  4.  5.]]\n",
            "\n",
            "  [[ 0.  5.  4.]\n",
            "   [ 1. -3. -4.]\n",
            "   [ 4.  2. -4.]]]\n",
            "\n",
            "\n",
            " [[[-6. -3. -2.]\n",
            "   [-3.  4. -1.]\n",
            "   [ 1. -4. -3.]]\n",
            "\n",
            "  [[ 3. -2.  5.]\n",
            "   [ 2.  2. -5.]\n",
            "   [-4.  4.  4.]]\n",
            "\n",
            "  [[ 6.  2. -5.]\n",
            "   [ 3.  5.  3.]\n",
            "   [-5.  4.  1.]]]]\n"
          ]
        }
      ],
      "source": [
        "#ex 12\n",
        "a = np.array([[[[1, 0, 1], [-2, 6, -2], [-5, 0, -6]], \n",
        "              [[3, 1, 0], [2, 6, 1], [-6, 5, 4]], \n",
        "              [[-6, 3, 6], [-3, 2, 3], [1, -4, -5]]],\n",
        "              [[[-1, -2, 3], [-3, 6, -1], [3, 0, -4]], \n",
        "              [[-2, -5, 5], [-3, -6, -3], [-3, 4, 2]], \n",
        "              [[-3, -2, 2], [4, 2, 5], [-4, 4, 4]]], \n",
        "              [[[2, 2, 3], [3, -2, -3], [1, -3, 1]], \n",
        "              [[-2, -2, 4], [2, -4, -4], [2, 5, -4]], \n",
        "              [[-2, 5, -5], [-1, -5, 3], [-3, 4, 1]]]])\n",
        "shape = (3, 3, 3, 3)\n",
        "b = np.zeros(shape)\n",
        "for l in range(3):\n",
        "    for i in range(3):\n",
        "      for j in range(3):\n",
        "        for k in range(3):\n",
        "            b[i][j][l][k] = a[k][i][l][j]\n",
        "print(b)"
      ]
    }
  ],
  "metadata": {
    "colab": {
      "provenance": []
    },
    "kernelspec": {
      "display_name": "Python 3",
      "name": "python3"
    },
    "language_info": {
      "codemirror_mode": {
        "name": "ipython",
        "version": 3
      },
      "file_extension": ".py",
      "mimetype": "text/x-python",
      "name": "python",
      "nbconvert_exporter": "python",
      "pygments_lexer": "ipython3",
      "version": "3.10.11"
    }
  },
  "nbformat": 4,
  "nbformat_minor": 0
}
