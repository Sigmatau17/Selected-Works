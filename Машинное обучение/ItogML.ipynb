{
  "nbformat": 4,
  "nbformat_minor": 0,
  "metadata": {
    "colab": {
      "provenance": []
    },
    "kernelspec": {
      "name": "python3",
      "display_name": "Python 3"
    },
    "language_info": {
      "name": "python"
    }
  },
  "cells": [
    {
      "cell_type": "code",
      "execution_count": 4,
      "metadata": {
        "id": "shmqBkcg0IGR"
      },
      "outputs": [],
      "source": [
        "import pandas as pd\n",
        "import numpy as np\n",
        "from sklearn.decomposition import PCA\n",
        "from sklearn.ensemble import AdaBoostClassifier, GradientBoostingClassifier\n",
        "from sklearn.tree import DecisionTreeClassifier\n",
        "from sklearn.metrics import confusion_matrix"
      ]
    },
    {
      "cell_type": "code",
      "source": [
        "df_tr = pd.read_csv('MNIST_train.csv')\n",
        "df_te = pd.read_csv(\"MNIST_test.csv\")\n",
        "\n",
        "df_tr = df_tr[(df_tr['label'] == 0) | (df_tr['label'] == 4)]\n",
        "df_te = df_te[(df_te['label'] == 0) | (df_te['label'] == 4)]\n",
        "\n",
        "x_train = df_tr.drop('label', axis = 1)\n",
        "y_train = df_tr['label']\n",
        "x_test = df_te.drop('label', axis = 1)\n",
        "y_test = df_te['label']"
      ],
      "metadata": {
        "id": "QQEYMBCh1VTM"
      },
      "execution_count": 5,
      "outputs": []
    },
    {
      "cell_type": "code",
      "source": [
        "pca = PCA(svd_solver='full', n_components = 0.79)\n",
        "x_train = pca.fit_transform(x_train)\n",
        "x_test = pca.transform(x_test)\n",
        "print(len(pca.explained_variance_ratio_))\n",
        "print(x_train[6][6])"
      ],
      "metadata": {
        "colab": {
          "base_uri": "https://localhost:8080/"
        },
        "id": "uxVQsY5M1Nsw",
        "outputId": "a0b72a57-d666-4857-83cf-6b2b3d80d964"
      },
      "execution_count": 6,
      "outputs": [
        {
          "output_type": "stream",
          "name": "stdout",
          "text": [
            "31\n",
            "394.2281502210439\n"
          ]
        }
      ]
    },
    {
      "cell_type": "code",
      "source": [
        "ABC = AdaBoostClassifier(\n",
        "    base_estimator=DecisionTreeClassifier(max_depth=3, class_weight='balanced'),\n",
        "    n_estimators=300,\n",
        "    learning_rate=0.5,\n",
        "    random_state=21)\n",
        "\n",
        "ABC.fit(x_train, y_train)\n",
        "print(ABC.score(x_test, y_test))"
      ],
      "metadata": {
        "colab": {
          "base_uri": "https://localhost:8080/"
        },
        "id": "_vm37cH60Zkc",
        "outputId": "c8eac4b2-d0d6-4981-89ad-98204f01ba2e"
      },
      "execution_count": 7,
      "outputs": [
        {
          "output_type": "stream",
          "name": "stderr",
          "text": [
            "/usr/local/lib/python3.10/dist-packages/sklearn/ensemble/_base.py:166: FutureWarning: `base_estimator` was renamed to `estimator` in version 1.2 and will be removed in 1.4.\n",
            "  warnings.warn(\n"
          ]
        },
        {
          "output_type": "stream",
          "name": "stdout",
          "text": [
            "0.9989806320081549\n"
          ]
        }
      ]
    },
    {
      "cell_type": "code",
      "source": [
        "tn, fp, fn, tp = confusion_matrix(y_test, ABC.predict(x_test)).ravel()"
      ],
      "metadata": {
        "id": "Lh_CbC5V0wI7"
      },
      "execution_count": 8,
      "outputs": []
    },
    {
      "cell_type": "code",
      "source": [
        "print(tn, tp)"
      ],
      "metadata": {
        "colab": {
          "base_uri": "https://localhost:8080/"
        },
        "id": "n4iWcpt400aj",
        "outputId": "18b9d44d-67e1-480c-dcc4-4e43028de278"
      },
      "execution_count": 9,
      "outputs": [
        {
          "output_type": "stream",
          "name": "stdout",
          "text": [
            "978 982\n"
          ]
        }
      ]
    },
    {
      "cell_type": "code",
      "source": [
        "GBC = GradientBoostingClassifier(n_estimators=500, learning_rate=0.8, random_state=21, max_depth=2)\n",
        "GBC.fit(x_train, y_train)\n",
        "print(GBC.score(x_test, y_test))"
      ],
      "metadata": {
        "colab": {
          "base_uri": "https://localhost:8080/"
        },
        "id": "0Ot5ElgX09Lg",
        "outputId": "cd391bff-1f40-4a00-df47-9fad84061347"
      },
      "execution_count": 10,
      "outputs": [
        {
          "output_type": "stream",
          "name": "stdout",
          "text": [
            "0.9979612640163099\n"
          ]
        }
      ]
    },
    {
      "cell_type": "code",
      "source": [
        "tn, fp, fn, tp = confusion_matrix(y_test, GBC.predict(x_test)).ravel()"
      ],
      "metadata": {
        "id": "HpQ4gsUR04Io"
      },
      "execution_count": 11,
      "outputs": []
    },
    {
      "cell_type": "code",
      "source": [
        "print(fp, tn)"
      ],
      "metadata": {
        "colab": {
          "base_uri": "https://localhost:8080/"
        },
        "id": "11Ko7fXz05Tj",
        "outputId": "cb03cd08-2468-4f9b-df05-7e91f045fb88"
      },
      "execution_count": 12,
      "outputs": [
        {
          "output_type": "stream",
          "name": "stdout",
          "text": [
            "3 977\n"
          ]
        }
      ]
    }
  ]
}